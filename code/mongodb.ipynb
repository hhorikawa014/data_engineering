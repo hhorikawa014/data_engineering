{
 "cells": [
  {
   "cell_type": "markdown",
   "metadata": {},
   "source": [
    "- Run this locally by cloning the repo and replacing the dataset."
   ]
  },
  {
   "cell_type": "markdown",
   "metadata": {},
   "source": [
    "## Unzip Dataset"
   ]
  },
  {
   "cell_type": "code",
   "execution_count": 1,
   "metadata": {},
   "outputs": [
    {
     "name": "stderr",
     "output_type": "stream",
     "text": [
      "/var/folders/60/12gznrqn1nlbschqkzmlstg00000gn/T/ipykernel_75153/3574886583.py:11: DeprecationWarning: Python 3.14 will, by default, filter extracted tar archives and reject files or modify their metadata. Use the filter argument to control this behavior.\n",
      "  tar.extractall(path=data_dir)\n"
     ]
    },
    {
     "name": "stdout",
     "output_type": "stream",
     "text": [
      "Files extracted to /Users/hayato/Desktop/data_engineering/data\n"
     ]
    }
   ],
   "source": [
    "# ONLY first time run this to unzip tar file\n",
    "\n",
    "import tarfile\n",
    "import os\n",
    "\n",
    "curr_dir = os.path.dirname(os.getcwd())\n",
    "data_dir = os.path.join(curr_dir, 'data')\n",
    "\n",
    "# Extract files from the tar file\n",
    "with tarfile.open(os.path.join(data_dir, \"yelp_dataset.tar\"), 'r') as tar:\n",
    "    tar.extractall(path=data_dir)\n",
    "\n",
    "print(f\"Files extracted to {data_dir}\")"
   ]
  },
  {
   "cell_type": "code",
   "execution_count": 2,
   "metadata": {},
   "outputs": [
    {
     "name": "stdout",
     "output_type": "stream",
     "text": [
      "Requirement already satisfied: pymongo in /Users/hayato/miniconda3/lib/python3.12/site-packages (4.10.1)\n",
      "Requirement already satisfied: dnspython<3.0.0,>=1.16.0 in /Users/hayato/miniconda3/lib/python3.12/site-packages (from pymongo) (2.7.0)\n"
     ]
    }
   ],
   "source": [
    "!pip install pymongo"
   ]
  },
  {
   "cell_type": "markdown",
   "metadata": {},
   "source": [
    "## Import Libraries and Create Database in MongoDB"
   ]
  },
  {
   "cell_type": "code",
   "execution_count": 3,
   "metadata": {},
   "outputs": [],
   "source": [
    "# imports\n",
    "import numpy as np\n",
    "import pandas as pd\n",
    "import matplotlib.pyplot as plt\n",
    "import pymongo\n",
    "import os\n",
    "import time\n",
    "\n",
    "\n",
    "myclient = pymongo.MongoClient(\"mongodb://localhost\")\n",
    "mydb = myclient[\"yelp\"]\n",
    "business = mydb[\"business\"]\n",
    "review = mydb[\"review\"]\n",
    "user = mydb[\"user\"]"
   ]
  },
  {
   "cell_type": "code",
   "execution_count": 4,
   "metadata": {},
   "outputs": [],
   "source": [
    "# for reset\n",
    "review.drop()\n",
    "business.drop()\n",
    "user.drop()"
   ]
  },
  {
   "cell_type": "markdown",
   "metadata": {},
   "source": [
    "## ER Diagram"
   ]
  },
  {
   "cell_type": "code",
   "execution_count": 14,
   "metadata": {},
   "outputs": [
    {
     "data": {
      "text/html": [
       "<img src=\"/Users/hayato/Desktop/data_engineering/data/ER_diagram.png\" width=\"564\" height=\"499\"/>"
      ],
      "text/plain": [
       "<IPython.core.display.Image object>"
      ]
     },
     "execution_count": 14,
     "metadata": {},
     "output_type": "execute_result"
    }
   ],
   "source": [
    "# import image module \n",
    "from IPython.display import Image\n",
    "Image(url=os.path.join(data_dir, \"ER_diagram.png\"), width=564, height=499)"
   ]
  },
  {
   "cell_type": "markdown",
   "metadata": {},
   "source": [
    "## Sampling\n",
    "- The original dataset is too large to deal with in a local environment.\n",
    "- Sampling 20000 objects from the business dataset and corresponding objects from other datasets in the ER diagram above.\n",
    "- Embedding the sampled dataset into the database."
   ]
  },
  {
   "cell_type": "code",
   "execution_count": 8,
   "metadata": {},
   "outputs": [
    {
     "name": "stdout",
     "output_type": "stream",
     "text": [
      "Sampled 20000 businesses.\n"
     ]
    }
   ],
   "source": [
    "# step 1: Sample buisnesses\n",
    "def sample_businesses(file_path, sample_size=20000):\n",
    "    sampled_df = pd.DataFrame()\n",
    "    for chunk in pd.read_json(file_path, lines=True, chunksize=50000):  # Increased chunksize\n",
    "        remaining_size = sample_size - len(sampled_df)\n",
    "        if remaining_size <= 0:\n",
    "            break\n",
    "        sampled_df = pd.concat([sampled_df, chunk.sample(n=min(remaining_size, len(chunk)), random_state=42)])\n",
    "    print(f\"Sampled {len(sampled_df)} businesses.\")\n",
    "    return sampled_df\n",
    "\n",
    "curr_dir = os.path.dirname(os.getcwd())\n",
    "business_path = os.path.join(curr_dir, 'data/yelp_academic_dataset_business.json')\n",
    "sampled_business_df = sample_businesses(business_path)\n"
   ]
  },
  {
   "cell_type": "code",
   "execution_count": 9,
   "metadata": {},
   "outputs": [
    {
     "name": "stdout",
     "output_type": "stream",
     "text": [
      "Inserted 20000 businesses into MongoDB.\n"
     ]
    }
   ],
   "source": [
    "# step 2: Load sampled businesses into MongoDB\n",
    "def load_sampled_businesses(df):\n",
    "    businesses_to_insert = []\n",
    "    for _, row in df.iterrows():\n",
    "        business_data = {\n",
    "            'business_id': row['business_id'],\n",
    "            'name': row['name'],\n",
    "            'address': row['address'],\n",
    "            'city': row['city'],\n",
    "            'state': row['state'],\n",
    "            'postal_code': row['postal_code'],\n",
    "            'latitude': row['latitude'],\n",
    "            'longitude': row['longitude'],\n",
    "            'stars': row['stars'],\n",
    "            'review_count': row['review_count'],\n",
    "            'is_open': bool(row['is_open']) if pd.notnull(row['is_open']) else None,\n",
    "            'attributes': row['attributes'] if isinstance(row['attributes'], dict) else None,\n",
    "            'categories': row['categories'],\n",
    "            'hours': row['hours'] if isinstance(row['hours'], dict) else None\n",
    "        }\n",
    "        businesses_to_insert.append(business_data)\n",
    "\n",
    "    if businesses_to_insert:\n",
    "        business.insert_many(businesses_to_insert)\n",
    "    print(f\"Inserted {len(businesses_to_insert)} businesses into MongoDB.\")\n",
    "\n",
    "load_sampled_businesses(sampled_business_df)\n"
   ]
  },
  {
   "cell_type": "code",
   "execution_count": 10,
   "metadata": {},
   "outputs": [
    {
     "name": "stdout",
     "output_type": "stream",
     "text": [
      "Found 532171 relevant users.\n"
     ]
    }
   ],
   "source": [
    "# step 3: Get relevant user ids\n",
    "def get_relevant_user_ids(review_path, business_ids):\n",
    "    user_ids = set()\n",
    "    for chunk in pd.read_json(review_path, lines=True, chunksize=100000):\n",
    "        filtered = chunk[chunk['business_id'].isin(business_ids)]\n",
    "        user_ids.update(filtered['user_id'].unique())\n",
    "    print(f\"Found {len(user_ids)} relevant users.\")\n",
    "    return user_ids\n",
    "\n",
    "review_path = os.path.join(curr_dir, 'data/yelp_academic_dataset_review.json')\n",
    "relevant_user_ids = get_relevant_user_ids(review_path, set(sampled_business_df['business_id']))\n"
   ]
  },
  {
   "cell_type": "code",
   "execution_count": 11,
   "metadata": {},
   "outputs": [
    {
     "name": "stdout",
     "output_type": "stream",
     "text": [
      "Inserted 532169 users into MongoDB.\n"
     ]
    }
   ],
   "source": [
    "# step 4: Load users into MongoDB\n",
    "def load_users(file_path, relevant_user_ids):\n",
    "    users_to_insert = []\n",
    "    for chunk in pd.read_json(file_path, lines=True, chunksize=50000):\n",
    "        filtered_chunk = chunk[chunk['user_id'].isin(relevant_user_ids)]\n",
    "        for _, row in filtered_chunk.iterrows():\n",
    "            try:\n",
    "                user_data = {\n",
    "                    'user_id': row['user_id'],\n",
    "                    'name': row['name'],\n",
    "                    'review_count': row['review_count'],\n",
    "                    'yelping_since': row['yelping_since'],\n",
    "                    'friends': row['friends'],\n",
    "                    'useful': row['useful'],\n",
    "                    'funny': row['funny'],\n",
    "                    'cool': row['cool'],\n",
    "                    'fans': row['fans'],\n",
    "                    'elite': row['elite'],\n",
    "                    'average_stars': row['average_stars'],\n",
    "                    'compliment_hot': row['compliment_hot'],\n",
    "                    'compliment_more': row['compliment_more'],\n",
    "                    'compliment_profile': row['compliment_profile'],\n",
    "                    'compliment_cute': row['compliment_cute'],\n",
    "                    'compliment_list': row['compliment_list'],\n",
    "                    'compliment_note': row['compliment_note'],\n",
    "                    'compliment_plain': row['compliment_plain'],\n",
    "                    'compliment_cool': row['compliment_cool'],\n",
    "                    'compliment_funny': row['compliment_funny'],\n",
    "                    'compliment_writer': row['compliment_writer'],\n",
    "                    'compliment_photos': row['compliment_photos']\n",
    "                }\n",
    "                users_to_insert.append(user_data)\n",
    "            except Exception as e:\n",
    "                print(f\"Error processing user_id {row['user_id']}: {e}\")\n",
    "    \n",
    "    if users_to_insert:\n",
    "        user.insert_many(users_to_insert)\n",
    "    print(f\"Inserted {len(users_to_insert)} users into MongoDB.\")\n",
    "\n",
    "user_path = os.path.join(curr_dir, 'data/yelp_academic_dataset_user.json')\n",
    "load_users(user_path, relevant_user_ids)\n"
   ]
  },
  {
   "cell_type": "code",
   "execution_count": 12,
   "metadata": {},
   "outputs": [
    {
     "name": "stdout",
     "output_type": "stream",
     "text": [
      "Inserted 952589 reviews into MongoDB.\n"
     ]
    }
   ],
   "source": [
    "# step 5: load reviews into MongoDB\n",
    "def load_reviews(file_path, business_ids, relevant_user_ids):\n",
    "    reviews_to_insert = []\n",
    "    for chunk in pd.read_json(file_path, lines=True, chunksize=50000):\n",
    "        filtered_reviews = chunk[\n",
    "            chunk['business_id'].isin(business_ids) &\n",
    "            chunk['user_id'].isin(relevant_user_ids)\n",
    "        ]\n",
    "        \n",
    "        for _, row in filtered_reviews.iterrows():\n",
    "            review_data = {\n",
    "                'review_id': row['review_id'],\n",
    "                'user_id': row['user_id'],\n",
    "                'business_id': row['business_id'],\n",
    "                'stars': row['stars'],\n",
    "                'useful': row['useful'],\n",
    "                'funny': row['funny'],\n",
    "                'cool': row['cool'],\n",
    "                'text': row['text'],\n",
    "                'review_date': pd.to_datetime(row['date']).replace(hour=0, minute=0, second=0, microsecond=0)\n",
    "            }\n",
    "            reviews_to_insert.append(review_data)\n",
    "\n",
    "    if reviews_to_insert:\n",
    "        review.insert_many(reviews_to_insert)\n",
    "    print(f\"Inserted {len(reviews_to_insert)} reviews into MongoDB.\")\n",
    "\n",
    "load_reviews(review_path, set(sampled_business_df['business_id']), relevant_user_ids)\n"
   ]
  },
  {
   "cell_type": "code",
   "execution_count": 13,
   "metadata": {},
   "outputs": [
    {
     "name": "stdout",
     "output_type": "stream",
     "text": [
      "Verifying row counts:\n",
      "Businesses: 20000\n",
      "Users: 532169\n",
      "Reviews: 952589\n"
     ]
    }
   ],
   "source": [
    "# step 6: Verify the existence of the data in MongoDB\n",
    "print(\"Verifying row counts:\")\n",
    "print(f\"Businesses: {business.count_documents({})}\")\n",
    "print(f\"Users: {user.count_documents({})}\")\n",
    "print(f\"Reviews: {review.count_documents({})}\")"
   ]
  },
  {
   "cell_type": "markdown",
   "metadata": {},
   "source": [
    "## Indexing\n",
    "- Indexing is \"must-do\", otherwise it will take forever to run even with the sampled data."
   ]
  },
  {
   "cell_type": "code",
   "execution_count": 15,
   "metadata": {},
   "outputs": [
    {
     "name": "stdout",
     "output_type": "stream",
     "text": [
      "Indexing done.\n"
     ]
    }
   ],
   "source": [
    "user.create_index('user_id', unique=True)\n",
    "review.create_index('user_id', unique=False)\n",
    "review.create_index('business_id', unique=False)\n",
    "business.create_index('business_id', unique=True)\n",
    "print(\"Indexing done.\")"
   ]
  },
  {
   "cell_type": "markdown",
   "metadata": {},
   "source": [
    "## Query 1\n",
    "- Seeing how bad non-relational database performs joining operation using business and review collections.\n",
    "- _Identifying top 10 cities with the highest total review counts for restaurants, with corresponding average rating._"
   ]
  },
  {
   "cell_type": "code",
   "execution_count": 16,
   "metadata": {},
   "outputs": [
    {
     "data": {
      "text/plain": [
       "[{'_id': ['Philadelphia'],\n",
       "  'total_reviews': 90136,\n",
       "  'avg_rating': 3.879160379870418},\n",
       " {'_id': ['New Orleans'],\n",
       "  'total_reviews': 75396,\n",
       "  'avg_rating': 3.958538914531275},\n",
       " {'_id': ['Nashville'],\n",
       "  'total_reviews': 43187,\n",
       "  'avg_rating': 3.8599810128047793},\n",
       " {'_id': ['Tampa'], 'total_reviews': 37500, 'avg_rating': 3.84096},\n",
       " {'_id': ['Indianapolis'],\n",
       "  'total_reviews': 35862,\n",
       "  'avg_rating': 3.8511795214990796},\n",
       " {'_id': ['Tucson'], 'total_reviews': 30443, 'avg_rating': 3.7725257037742668},\n",
       " {'_id': ['Saint Louis'],\n",
       "  'total_reviews': 27667,\n",
       "  'avg_rating': 3.8949289767593163},\n",
       " {'_id': ['Reno'], 'total_reviews': 21698, 'avg_rating': 3.7701170614803208},\n",
       " {'_id': ['Santa Barbara'],\n",
       "  'total_reviews': 21457,\n",
       "  'avg_rating': 3.9863913874260146},\n",
       " {'_id': ['Saint Petersburg'],\n",
       "  'total_reviews': 11115,\n",
       "  'avg_rating': 4.068196131354026}]"
      ]
     },
     "execution_count": 16,
     "metadata": {},
     "output_type": "execute_result"
    }
   ],
   "source": [
    "query1_pipeline = [\n",
    "    { \"$lookup\": {\n",
    "      \"from\": \"business\",\n",
    "      \"localField\": \"business_id\",\n",
    "      \"foreignField\": \"business_id\",\n",
    "      \"as\": \"business_info\"\n",
    "  }},\n",
    "  { \"$match\": { \"business_info.categories\": { \"$regex\": \"Restaurant\", \"$options\": \"i\" } } },\n",
    "  { \"$group\": {\n",
    "      \"_id\": \"$business_info.city\",\n",
    "      \"total_reviews\": { \"$count\": {} },\n",
    "      \"avg_rating\": { \"$avg\": \"$stars\" }\n",
    "  }},\n",
    "  { \"$sort\": { \"total_reviews\": -1 } },\n",
    "  { \"$limit\": 10 }\n",
    "]\n",
    "def query1_stats():\n",
    "  return mydb.command('explain', {'aggregate': 'review', 'pipeline': query1_pipeline, 'cursor': {}}, verbosity='executionStats')\n",
    "\n",
    "list(review.aggregate(query1_pipeline))"
   ]
  },
  {
   "cell_type": "markdown",
   "metadata": {},
   "source": [
    "## Query 2\n",
    "- More exploration in the business collection.\n",
    "- _Identifying the top 10 highly rated restaurants that are categorized as moderately priced (i.e. attributes.RestaurantsPriceRange2 = 2), with at least 300 review counts._"
   ]
  },
  {
   "cell_type": "code",
   "execution_count": 17,
   "metadata": {},
   "outputs": [
    {
     "data": {
      "text/plain": [
       "[{'_id': 'Kaffe Crepe',\n",
       "  'stars': 5.0,\n",
       "  'address': '1300 East Plumb Ln, Ste C4',\n",
       "  'review_count': 454},\n",
       " {'_id': 'German Bistro 2',\n",
       "  'stars': 5.0,\n",
       "  'address': '1300 East Bay Dr',\n",
       "  'review_count': 301},\n",
       " {'_id': 'Peg Leg Porker',\n",
       "  'stars': 4.5,\n",
       "  'address': '903 Gleaves St',\n",
       "  'review_count': 2878},\n",
       " {'_id': \"Jacques-Imo's Cafe\",\n",
       "  'stars': 4.5,\n",
       "  'address': '8324 Oak St',\n",
       "  'review_count': 2406},\n",
       " {'_id': 'The Eagle',\n",
       "  'stars': 4.5,\n",
       "  'address': '310 Massachusetts Ave',\n",
       "  'review_count': 2233},\n",
       " {'_id': 'Bodega',\n",
       "  'stars': 4.5,\n",
       "  'address': '1180 Central Ave',\n",
       "  'review_count': 1772},\n",
       " {'_id': 'Sugarfire Smoke House',\n",
       "  'stars': 4.5,\n",
       "  'address': '9200 Olive Blvd',\n",
       "  'review_count': 1627},\n",
       " {'_id': \"John's Roast Pork\",\n",
       "  'stars': 4.5,\n",
       "  'address': '14 E Snyder Ave',\n",
       "  'review_count': 1564},\n",
       " {'_id': \"Mazzaro's Italian Market\",\n",
       "  'stars': 4.5,\n",
       "  'address': '2909 22nd Ave N',\n",
       "  'review_count': 1551},\n",
       " {'_id': 'Rusty Bellies',\n",
       "  'stars': 4.5,\n",
       "  'address': '937 Dodecanese Blvd',\n",
       "  'review_count': 1421}]"
      ]
     },
     "execution_count": 17,
     "metadata": {},
     "output_type": "execute_result"
    }
   ],
   "source": [
    "query2_pipeline = [\n",
    "    {\"$match\": {\n",
    "        \"categories\": {\"$regex\": \"Restaurant\", \"$options\": \"i\"},\n",
    "        \"review_count\": {\"$gte\": 300},\n",
    "        \"attributes.RestaurantsPriceRange2\": \"2\"\n",
    "    }},\n",
    "    {\"$project\": {\n",
    "        \"name\": \"$name\",\n",
    "        \"stars\": \"$stars\",\n",
    "        \"address\": \"$address\",\n",
    "        \"review_count\": \"$review_count\"\n",
    "    }},\n",
    "    {\"$group\": {\n",
    "        \"_id\": \"$name\",\n",
    "        \"stars\": {\"$first\": \"$stars\"},\n",
    "        \"address\": {\"$first\": \"$address\"},\n",
    "        \"review_count\": {\"$first\": \"$review_count\"}\n",
    "    }},\n",
    "    {\"$sort\": {\"stars\": -1, \"review_count\": -1}},\n",
    "    {\"$limit\": 10}\n",
    "]\n",
    "def query2_stats():\n",
    "    return mydb.command('explain', {'aggregate': 'business', 'pipeline': query2_pipeline, 'cursor': {}}, verbosity='executionStats')\n",
    "\n",
    "list(business.aggregate(query2_pipeline))"
   ]
  },
  {
   "cell_type": "markdown",
   "metadata": {},
   "source": [
    "## Query 3\n",
    "- Get familier with window functions in MongoDB.\n",
    "- Surprisingly, MongoDB supports window functions. However, it does NOT support multiple attributes in the \"sortBy\" parameter unlike most SQL databases.\n",
    "- _Identifying the top 3 businesses (not just restaurants) by rating for each city (city rank) and their overall ranks. Sorting the result by city name, breaking ties by city rank._\n",
    "- SQL databases such as PostgreSQL can perform better in this particular type of queries since it allows multiple sorting attributes in window functions."
   ]
  },
  {
   "cell_type": "code",
   "execution_count": 18,
   "metadata": {},
   "outputs": [
    {
     "data": {
      "text/plain": [
       "[{'name': 'Emoji Sushi & Teriyaki',\n",
       "  'city': 'Abington',\n",
       "  'stars': 5.0,\n",
       "  'review_count': 13,\n",
       "  'city_rank': 1,\n",
       "  'overall_rank': 1},\n",
       " {'name': 'Gus Arias Painting',\n",
       "  'city': 'Abington',\n",
       "  'stars': 4.5,\n",
       "  'review_count': 6,\n",
       "  'city_rank': 2,\n",
       "  'overall_rank': 2220},\n",
       " {'name': 'Briar Bush Nature Center',\n",
       "  'city': 'Abington',\n",
       "  'stars': 4.5,\n",
       "  'review_count': 7,\n",
       "  'city_rank': 2,\n",
       "  'overall_rank': 2220},\n",
       " {'name': 'South Sea Thai Kitchen',\n",
       "  'city': 'Abington',\n",
       "  'stars': 4.5,\n",
       "  'review_count': 33,\n",
       "  'city_rank': 2,\n",
       "  'overall_rank': 2220},\n",
       " {'name': \"Juan's Reflexology\",\n",
       "  'city': 'Abington',\n",
       "  'stars': 4.5,\n",
       "  'review_count': 16,\n",
       "  'city_rank': 2,\n",
       "  'overall_rank': 2220},\n",
       " {'name': 'Easy Living Home Care',\n",
       "  'city': 'Abington',\n",
       "  'stars': 4.5,\n",
       "  'review_count': 6,\n",
       "  'city_rank': 2,\n",
       "  'overall_rank': 2220},\n",
       " {'name': 'Big Top Beverage',\n",
       "  'city': 'Abington',\n",
       "  'stars': 4.5,\n",
       "  'review_count': 14,\n",
       "  'city_rank': 2,\n",
       "  'overall_rank': 2220},\n",
       " {'name': 'TerraVida Holistic Centers',\n",
       "  'city': 'Abington Township',\n",
       "  'stars': 4.0,\n",
       "  'review_count': 21,\n",
       "  'city_rank': 1,\n",
       "  'overall_rank': 5870},\n",
       " {'name': 'Iron Hill Brewery & Restaurant',\n",
       "  'city': 'Abington Township',\n",
       "  'stars': 4.0,\n",
       "  'review_count': 223,\n",
       "  'city_rank': 1,\n",
       "  'overall_rank': 5870},\n",
       " {'name': 'Sushi Hana',\n",
       "  'city': 'Affton',\n",
       "  'stars': 4.5,\n",
       "  'review_count': 141,\n",
       "  'city_rank': 1,\n",
       "  'overall_rank': 2220}]"
      ]
     },
     "execution_count": 18,
     "metadata": {},
     "output_type": "execute_result"
    }
   ],
   "source": [
    "query3_pipeline = [\n",
    "  {\n",
    "    \"$setWindowFields\": {\n",
    "      \"partitionBy\": \"$city\",\n",
    "      \"sortBy\": { \"stars\": -1 },\n",
    "      \"output\": { \"city_rank\": { \"$rank\": {} } }\n",
    "    } \n",
    "  },\n",
    "  {\n",
    "    \"$setWindowFields\": {\n",
    "      \"sortBy\": { \"stars\": -1 },\n",
    "      \"output\": { \"overall_rank\": { \"$rank\": {} } }\n",
    "    }\n",
    "  },\n",
    "  {\n",
    "    \"$match\": { \"city_rank\": { \"$lte\": 3 } }\n",
    "  },\n",
    "  {\n",
    "    \"$sort\": { \"city\": 1, \"city_rank\": 1}\n",
    "  },\n",
    "  {\n",
    "    \"$project\": {\"_id\": 0, \"name\": 1, \"city\": 1, \"stars\": 1, \"review_count\": 1, \"city_rank\": \"$city_rank\", \"overall_rank\": \"$overall_rank\"}\n",
    "  },\n",
    "  {\n",
    "    \"$limit\": 10\n",
    "  }\n",
    "]\n",
    "def query3_stats():\n",
    "  return mydb.command('explain', {'aggregate': 'business', 'pipeline': query3_pipeline, 'cursor': {}}, verbosity='executionStats')\n",
    "\n",
    "list(business.aggregate(query3_pipeline))"
   ]
  },
  {
   "cell_type": "markdown",
   "metadata": {},
   "source": [
    "## Query 4\n",
    "- See how bad the non-relational database performs joining using business and review collections, part 2.\n",
    "- _Identifying the ranking of days in a week by review counts of only businesses that have at least 500 reviews._"
   ]
  },
  {
   "cell_type": "code",
   "execution_count": 22,
   "metadata": {},
   "outputs": [
    {
     "data": {
      "text/plain": [
       "[{'_id': 1, 'total_reviews': 31519},\n",
       " {'_id': 2, 'total_reviews': 28718},\n",
       " {'_id': 7, 'total_reviews': 27299},\n",
       " {'_id': 3, 'total_reviews': 25661},\n",
       " {'_id': 4, 'total_reviews': 24945},\n",
       " {'_id': 6, 'total_reviews': 23776},\n",
       " {'_id': 5, 'total_reviews': 23508}]"
      ]
     },
     "execution_count": 22,
     "metadata": {},
     "output_type": "execute_result"
    }
   ],
   "source": [
    "query4_pipeline = [\n",
    "    { \"$lookup\": {\n",
    "        \"from\": \"business\",\n",
    "        \"localField\": \"business_id\",\n",
    "        \"foreignField\": \"business_id\",\n",
    "        \"as\": \"business_info\"\n",
    "    }},\n",
    "    { \"$match\": { \"business_info.review_count\": { \"$gt\": 500 } } },\n",
    "    { \"$addFields\": {\"group_id\": {\"$dayOfWeek\": {\"date\": \"$review_date\"}}} },\n",
    "    { \"$group\": {\n",
    "        \"_id\": \"$group_id\",\n",
    "        \"total_reviews\": { \"$count\": {} }\n",
    "    }},\n",
    "    { \"$sort\": { \"total_reviews\": -1 } }\n",
    "]\n",
    "def query4_stats():\n",
    "    return mydb.command('explain', {'aggregate': 'review', 'pipeline': query4_pipeline, 'cursor': {}}, verbosity='executionStats')\n",
    "\n",
    "list(review.aggregate(query4_pipeline))"
   ]
  },
  {
   "cell_type": "markdown",
   "metadata": {},
   "source": [
    "## Query 5\n",
    "- The worst case scenario for non-relational databases: need to join all collections.\n",
    "- _Identifying users in Philadelphia who have written more than 500 reviews, their average rating, and their elite status information._"
   ]
  },
  {
   "cell_type": "code",
   "execution_count": 20,
   "metadata": {},
   "outputs": [
    {
     "data": {
      "text/plain": [
       "[{'name': 'Lori',\n",
       "  'review_count': 666,\n",
       "  'average_stars': 4.91,\n",
       "  'elite': '2012,2013,2014,2015,2016,2017,2018,2019,20,20,2021'},\n",
       " {'name': 'Dewan', 'review_count': 1600, 'average_stars': 4.85, 'elite': ''},\n",
       " {'name': 'Belle',\n",
       "  'review_count': 569,\n",
       "  'average_stars': 4.75,\n",
       "  'elite': '2017,2018,2019,20,20,2021'},\n",
       " {'name': 'Crystal',\n",
       "  'review_count': 937,\n",
       "  'average_stars': 4.64,\n",
       "  'elite': '2012,2013,2014,2015,2016,2017,2018,2019,20,20,2021'},\n",
       " {'name': 'Matt', 'review_count': 3193, 'average_stars': 4.64, 'elite': ''},\n",
       " {'name': 'Khoi',\n",
       "  'review_count': 785,\n",
       "  'average_stars': 4.63,\n",
       "  'elite': '2016,2017,2018,2019,20,20,2021'},\n",
       " {'name': 'James',\n",
       "  'review_count': 920,\n",
       "  'average_stars': 4.61,\n",
       "  'elite': '20,20,2021'},\n",
       " {'name': 'Carlo', 'review_count': 630, 'average_stars': 4.59, 'elite': ''},\n",
       " {'name': 'Chelsea',\n",
       "  'review_count': 748,\n",
       "  'average_stars': 4.58,\n",
       "  'elite': '2012,2013,2014,2015,2016,2017,2018,2019,20,20,2021'},\n",
       " {'name': 'Ada',\n",
       "  'review_count': 621,\n",
       "  'average_stars': 4.56,\n",
       "  'elite': '2015,2016,2017,2018,2019,20,20,2021'}]"
      ]
     },
     "execution_count": 20,
     "metadata": {},
     "output_type": "execute_result"
    }
   ],
   "source": [
    "query5_pipeline = [\n",
    "    { \"$match\": { \"review_count\": { \"$gt\": 500 } } },\n",
    "    { \"$lookup\": {\n",
    "        \"from\": \"review\",\n",
    "        \"localField\": \"user_id\",\n",
    "        \"foreignField\": \"user_id\",\n",
    "        \"pipeline\": [ { \"$project\": { \"business_id\": 1, \"_id\": 0 } } ],\n",
    "        \"as\": \"review_info\"\n",
    "    }},\n",
    "    { \"$unwind\": {\"path\": \"$review_info\", \"preserveNullAndEmptyArrays\": False } },\n",
    "    { \"$lookup\": {\n",
    "        \"from\": \"business\",\n",
    "        \"localField\": \"review_info.business_id\",\n",
    "        \"foreignField\": \"business_id\",\n",
    "        \"as\": \"business_info\"\n",
    "    }},\n",
    "    { \"$match\": {\"business_info.city\": \"Philadelphia\"}},\n",
    "    { \"$group\": { \"_id\": \"$user_id\", \"name\": {\"$first\": \"$name\"}, \"review_count\": {\"$first\": \"$review_count\"}, \"average_stars\": {\"$first\": \"$average_stars\"}, \"elite\": {\"$first\": \"$elite\"}}},\n",
    "    { \"$project\": { \"_id\": 0, \"name\": 1, \"review_count\": 1, \"average_stars\": 1, \"elite\": 1}},\n",
    "    { \"$sort\": {\"average_stars\": -1}},\n",
    "    { \"$limit\": 10}\n",
    "]\n",
    "def query5_stats():\n",
    "    return mydb.command('explain', {'aggregate': 'user', 'pipeline': query5_pipeline, 'cursor': {}}, verbosity='executionStats')\n",
    "\n",
    "list(user.aggregate(query5_pipeline))"
   ]
  },
  {
   "cell_type": "markdown",
   "metadata": {},
   "source": [
    "## Visualization\n",
    "- Measure the average execution time and the average document & keys scanned (should be stable) by running each query 10 times."
   ]
  },
  {
   "cell_type": "code",
   "execution_count": 21,
   "metadata": {},
   "outputs": [
    {
     "name": "stdout",
     "output_type": "stream",
     "text": [
      "\n",
      "=== Running Query 1 ===\n",
      "\n",
      "🔄 Run 1/10...\n",
      "⏱ Execution Time: 6454.00 ms\n",
      "💰 Total Documents & Keys Examined: 2857767.00\n",
      "\n",
      "🔄 Run 2/10...\n",
      "⏱ Execution Time: 5978.00 ms\n",
      "💰 Total Documents & Keys Examined: 2857767.00\n",
      "\n",
      "🔄 Run 3/10...\n",
      "⏱ Execution Time: 5965.00 ms\n",
      "💰 Total Documents & Keys Examined: 2857767.00\n",
      "\n",
      "🔄 Run 4/10...\n",
      "⏱ Execution Time: 6016.00 ms\n",
      "💰 Total Documents & Keys Examined: 2857767.00\n",
      "\n",
      "🔄 Run 5/10...\n",
      "⏱ Execution Time: 6160.00 ms\n",
      "💰 Total Documents & Keys Examined: 2857767.00\n",
      "\n",
      "🔄 Run 6/10...\n",
      "⏱ Execution Time: 6080.00 ms\n",
      "💰 Total Documents & Keys Examined: 2857767.00\n",
      "\n",
      "🔄 Run 7/10...\n",
      "⏱ Execution Time: 6073.00 ms\n",
      "💰 Total Documents & Keys Examined: 2857767.00\n",
      "\n",
      "🔄 Run 8/10...\n",
      "⏱ Execution Time: 6095.00 ms\n",
      "💰 Total Documents & Keys Examined: 2857767.00\n",
      "\n",
      "🔄 Run 9/10...\n",
      "⏱ Execution Time: 6098.00 ms\n",
      "💰 Total Documents & Keys Examined: 2857767.00\n",
      "\n",
      "🔄 Run 10/10...\n",
      "⏱ Execution Time: 6230.00 ms\n",
      "💰 Total Documents & Keys Examined: 2857767.00\n",
      "\n",
      "✅ Query 1 Completed.\n",
      "\n",
      "EXPLAIN COMMAND OUTPUT (AVERAGE):\n",
      " Execution Time: 6114.90 ms\n",
      "Documents & Keys Examined: 2857767.00 counts\n",
      "\n",
      "=== Running Query 2 ===\n",
      "\n",
      "🔄 Run 1/10...\n",
      "⏱ Execution Time: 9.00 ms\n",
      "💰 Total Documents & Keys Examined: 20000.00\n",
      "\n",
      "🔄 Run 2/10...\n",
      "⏱ Execution Time: 8.00 ms\n",
      "💰 Total Documents & Keys Examined: 20000.00\n",
      "\n",
      "🔄 Run 3/10...\n",
      "⏱ Execution Time: 8.00 ms\n",
      "💰 Total Documents & Keys Examined: 20000.00\n",
      "\n",
      "🔄 Run 4/10...\n",
      "⏱ Execution Time: 8.00 ms\n",
      "💰 Total Documents & Keys Examined: 20000.00\n",
      "\n",
      "🔄 Run 5/10...\n",
      "⏱ Execution Time: 8.00 ms\n",
      "💰 Total Documents & Keys Examined: 20000.00\n",
      "\n",
      "🔄 Run 6/10...\n",
      "⏱ Execution Time: 8.00 ms\n",
      "💰 Total Documents & Keys Examined: 20000.00\n",
      "\n",
      "🔄 Run 7/10...\n",
      "⏱ Execution Time: 8.00 ms\n",
      "💰 Total Documents & Keys Examined: 20000.00\n",
      "\n",
      "🔄 Run 8/10...\n",
      "⏱ Execution Time: 8.00 ms\n",
      "💰 Total Documents & Keys Examined: 20000.00\n",
      "\n",
      "🔄 Run 9/10...\n",
      "⏱ Execution Time: 9.00 ms\n",
      "💰 Total Documents & Keys Examined: 20000.00\n",
      "\n",
      "🔄 Run 10/10...\n",
      "⏱ Execution Time: 8.00 ms\n",
      "💰 Total Documents & Keys Examined: 20000.00\n",
      "\n",
      "✅ Query 2 Completed.\n",
      "\n",
      "EXPLAIN COMMAND OUTPUT (AVERAGE):\n",
      " Execution Time: 8.20 ms\n",
      "Documents & Keys Examined: 20000.00 counts\n",
      "\n",
      "=== Running Query 3 ===\n",
      "\n",
      "🔄 Run 1/10...\n",
      "⏱ Execution Time: 49.00 ms\n",
      "💰 Total Documents & Keys Examined: 20000.00\n",
      "\n",
      "🔄 Run 2/10...\n",
      "⏱ Execution Time: 47.00 ms\n",
      "💰 Total Documents & Keys Examined: 20000.00\n",
      "\n",
      "🔄 Run 3/10...\n",
      "⏱ Execution Time: 50.00 ms\n",
      "💰 Total Documents & Keys Examined: 20000.00\n",
      "\n",
      "🔄 Run 4/10...\n",
      "⏱ Execution Time: 49.00 ms\n",
      "💰 Total Documents & Keys Examined: 20000.00\n",
      "\n",
      "🔄 Run 5/10...\n",
      "⏱ Execution Time: 48.00 ms\n",
      "💰 Total Documents & Keys Examined: 20000.00\n",
      "\n",
      "🔄 Run 6/10...\n",
      "⏱ Execution Time: 50.00 ms\n",
      "💰 Total Documents & Keys Examined: 20000.00\n",
      "\n",
      "🔄 Run 7/10...\n",
      "⏱ Execution Time: 47.00 ms\n",
      "💰 Total Documents & Keys Examined: 20000.00\n",
      "\n",
      "🔄 Run 8/10...\n",
      "⏱ Execution Time: 50.00 ms\n",
      "💰 Total Documents & Keys Examined: 20000.00\n",
      "\n",
      "🔄 Run 9/10...\n",
      "⏱ Execution Time: 47.00 ms\n",
      "💰 Total Documents & Keys Examined: 20000.00\n",
      "\n",
      "🔄 Run 10/10...\n",
      "⏱ Execution Time: 47.00 ms\n",
      "💰 Total Documents & Keys Examined: 20000.00\n",
      "\n",
      "✅ Query 3 Completed.\n",
      "\n",
      "EXPLAIN COMMAND OUTPUT (AVERAGE):\n",
      " Execution Time: 48.40 ms\n",
      "Documents & Keys Examined: 20000.00 counts\n",
      "\n",
      "=== Running Query 4 ===\n",
      "\n",
      "🔄 Run 1/10...\n",
      "⏱ Execution Time: 5880.00 ms\n",
      "💰 Total Documents & Keys Examined: 2857767.00\n",
      "\n",
      "🔄 Run 2/10...\n",
      "⏱ Execution Time: 5892.00 ms\n",
      "💰 Total Documents & Keys Examined: 2857767.00\n",
      "\n",
      "🔄 Run 3/10...\n",
      "⏱ Execution Time: 5801.00 ms\n",
      "💰 Total Documents & Keys Examined: 2857767.00\n",
      "\n",
      "🔄 Run 4/10...\n",
      "⏱ Execution Time: 5768.00 ms\n",
      "💰 Total Documents & Keys Examined: 2857767.00\n",
      "\n",
      "🔄 Run 5/10...\n",
      "⏱ Execution Time: 5889.00 ms\n",
      "💰 Total Documents & Keys Examined: 2857767.00\n",
      "\n",
      "🔄 Run 6/10...\n",
      "⏱ Execution Time: 5928.00 ms\n",
      "💰 Total Documents & Keys Examined: 2857767.00\n",
      "\n",
      "🔄 Run 7/10...\n",
      "⏱ Execution Time: 5914.00 ms\n",
      "💰 Total Documents & Keys Examined: 2857767.00\n",
      "\n",
      "🔄 Run 8/10...\n",
      "⏱ Execution Time: 5948.00 ms\n",
      "💰 Total Documents & Keys Examined: 2857767.00\n",
      "\n",
      "🔄 Run 9/10...\n",
      "⏱ Execution Time: 6127.00 ms\n",
      "💰 Total Documents & Keys Examined: 2857767.00\n",
      "\n",
      "🔄 Run 10/10...\n",
      "⏱ Execution Time: 5816.00 ms\n",
      "💰 Total Documents & Keys Examined: 2857767.00\n",
      "\n",
      "✅ Query 4 Completed.\n",
      "\n",
      "EXPLAIN COMMAND OUTPUT (AVERAGE):\n",
      " Execution Time: 5896.30 ms\n",
      "Documents & Keys Examined: 2857767.00 counts\n",
      "\n",
      "=== Running Query 5 ===\n",
      "\n",
      "🔄 Run 1/10...\n",
      "⏱ Execution Time: 1254.00 ms\n",
      "💰 Total Documents & Keys Examined: 532169.00\n",
      "\n",
      "🔄 Run 2/10...\n",
      "⏱ Execution Time: 1152.00 ms\n",
      "💰 Total Documents & Keys Examined: 532169.00\n",
      "\n",
      "🔄 Run 3/10...\n",
      "⏱ Execution Time: 1244.00 ms\n",
      "💰 Total Documents & Keys Examined: 532169.00\n",
      "\n",
      "🔄 Run 4/10...\n",
      "⏱ Execution Time: 1221.00 ms\n",
      "💰 Total Documents & Keys Examined: 532169.00\n",
      "\n",
      "🔄 Run 5/10...\n",
      "⏱ Execution Time: 1215.00 ms\n",
      "💰 Total Documents & Keys Examined: 532169.00\n",
      "\n",
      "🔄 Run 6/10...\n",
      "⏱ Execution Time: 1122.00 ms\n",
      "💰 Total Documents & Keys Examined: 532169.00\n",
      "\n",
      "🔄 Run 7/10...\n",
      "⏱ Execution Time: 1135.00 ms\n",
      "💰 Total Documents & Keys Examined: 532169.00\n",
      "\n",
      "🔄 Run 8/10...\n",
      "⏱ Execution Time: 1144.00 ms\n",
      "💰 Total Documents & Keys Examined: 532169.00\n",
      "\n",
      "🔄 Run 9/10...\n",
      "⏱ Execution Time: 1144.00 ms\n",
      "💰 Total Documents & Keys Examined: 532169.00\n",
      "\n",
      "🔄 Run 10/10...\n",
      "⏱ Execution Time: 1172.00 ms\n",
      "💰 Total Documents & Keys Examined: 532169.00\n",
      "\n",
      "✅ Query 5 Completed.\n",
      "\n",
      "EXPLAIN COMMAND OUTPUT (AVERAGE):\n",
      " Execution Time: 1180.30 ms\n",
      "Documents & Keys Examined: 532169.00 counts\n"
     ]
    },
    {
     "data": {
      "image/png": "[encoded data removed]",
      "text/plain": [
       "<Figure size 1200x1000 with 2 Axes>"
      ]
     },
     "metadata": {},
     "output_type": "display_data"
    },
    {
     "data": {
      "text/plain": [
       "<Figure size 640x480 with 0 Axes>"
      ]
     },
     "metadata": {},
     "output_type": "display_data"
    },
    {
     "name": "stdout",
     "output_type": "stream",
     "text": [
      "CPU times: user 631 ms, sys: 57.1 ms, total: 688 ms\n",
      "Wall time: 2min 12s\n"
     ]
    }
   ],
   "source": [
    "%%time\n",
    "# Function to print formatted EXPLAIN ANALYZE results\n",
    "def print_explain_analyze_results(avg_latency, avg_memory):\n",
    "    print(\"\\nEXPLAIN COMMAND OUTPUT (AVERAGE):\")\n",
    "    print(f\" Execution Time: {avg_latency:.2f} ms\")\n",
    "    if avg_memory is not None:\n",
    "        print(f\"Documents & Keys Examined: {avg_memory:.2f} counts\")\n",
    "\n",
    "# Function to run a query multiple times and collect performance data\n",
    "def execute_and_time_query(stats_func, query_name, runs=10):\n",
    "    latencies = []\n",
    "    total_costs = []\n",
    "    print(f\"\\n=== Running {query_name} ===\\n\")\n",
    "    for i in range(runs):\n",
    "        print(f\"🔄 Run {i+1}/{runs}...\")\n",
    "        stats = stats_func()\n",
    "\n",
    "        latency = stats['stages'][0]['$cursor']['executionStats']['executionTimeMillis']  # Execution time in ms\n",
    "        cost = stats['stages'][0]['$cursor']['executionStats']['totalKeysExamined'] + stats['stages'][0]['$cursor']['executionStats']['totalDocsExamined']  # Total query cost (est)\n",
    "        latencies.append(latency)\n",
    "        total_costs.append(cost)\n",
    "\n",
    "        print(f\"⏱ Execution Time: {latency:.2f} ms\")\n",
    "        print(f\"💰 Total Documents & Keys Examined: {cost:.2f}\\n\")\n",
    "\n",
    "    avg_latency = sum(latencies) / len(latencies)\n",
    "    avg_cost = sum(total_costs) / len(total_costs)\n",
    "\n",
    "    print(f\"✅ {query_name} Completed.\")\n",
    "    print_explain_analyze_results(avg_latency, avg_cost)\n",
    "\n",
    "    return latencies, total_costs\n",
    "\n",
    "results = {}\n",
    "runs = 10  # Number of times to run each query\n",
    "queries = {\"Query 1\": query1_stats, \"Query 2\": query2_stats, \"Query 3\": query3_stats, \"Query 4\": query4_stats, \"Query 5\": query5_stats}\n",
    "for query_name, stats_func in queries.items():\n",
    "    latencies, total_costs = execute_and_time_query(stats_func, query_name, runs=runs)\n",
    "    results[query_name] = {\n",
    "    \"latencies\": latencies,\n",
    "    \"total_costs\": total_costs\n",
    "    }\n",
    "\n",
    "\n",
    "# Plot the execution times and memory usage for each query\n",
    "fig, axs = plt.subplots(2, 1, figsize=(12, 10))\n",
    "\n",
    "# Execution Time Plot\n",
    "for query_name, data in results.items():\n",
    "    axs[0].plot(range(1, runs + 1), data[\"latencies\"], marker=\"o\", label=query_name)\n",
    "axs[0].set_title(\"Total Execution Time per Run\", fontsize=16)\n",
    "axs[0].set_xlabel(\"Run\", fontsize=14)\n",
    "axs[0].set_ylabel(\"Execution Time (ms)\", fontsize=14)\n",
    "axs[0].legend(fontsize=9, loc=\"upper right\")\n",
    "axs[0].grid(True)\n",
    "\n",
    "# Total Cost Plot\n",
    "for query_name, data in results.items():\n",
    "    axs[1].plot(range(1, runs + 1), data[\"total_costs\"], marker=\"s\", label=query_name)\n",
    "axs[1].set_title(\"Total Documents & Keys Examined per Run\", fontsize=16)\n",
    "axs[1].set_xlabel(\"Run\", fontsize=14)\n",
    "axs[1].set_ylabel(\"Total Documents & Keys\", fontsize=14)\n",
    "axs[1].legend(fontsize=9, loc=\"upper right\")\n",
    "axs[1].grid(True)\n",
    "\n",
    "plt.tight_layout()\n",
    "plt.show()\n",
    "\n",
    "\n",
    "plt.tight_layout()\n",
    "plt.show()\n"
   ]
  },
  {
   "cell_type": "markdown",
   "metadata": {},
   "source": [
    "- Note query 1 and 4, query 2 and 3 have the same total documents & keys scanned respectively."
   ]
  },
  {
   "cell_type": "markdown",
   "metadata": {},
   "source": [
    "## Summary\n",
    "- Comparing query 5 to query 1 and 4, query 5 resulted less time and cost even it joins 3 collections together. This is mainly because predicate push down (filtering first before joining) works well in it. \n",
    "- Yet, we can still confirm that non-relational databases are bad at joining operations compared to SQL performances. MongoDB's primary language is JSON, whose data includes a lot of redundancy because of its nested data nature. Therefore, it is apparant that MongoDB is bad at operations that require to join collections.\n",
    "- When to use non-relational databases: the data is large, and the query or our task is just to filter out documents and output limited (like 10) results within the same collection.\n",
    "- One good thing for JSON is that it is very light - it can store a lot of data in few pages. MongoDB's native language is JSON, which means it is more smooth and making-sense to use it for query operations for JSON data."
   ]
  }
 ],
 "metadata": {
  "kernelspec": {
   "display_name": "Python (pytorch-env)",
   "language": "python",
   "name": "pytorch-env"
  },
  "language_info": {
   "codemirror_mode": {
    "name": "ipython",
    "version": 3
   },
   "file_extension": ".py",
   "mimetype": "text/x-python",
   "name": "python",
   "nbconvert_exporter": "python",
   "pygments_lexer": "ipython3",
   "version": "3.12.4"
  }
 },
 "nbformat": 4,
 "nbformat_minor": 4
}
